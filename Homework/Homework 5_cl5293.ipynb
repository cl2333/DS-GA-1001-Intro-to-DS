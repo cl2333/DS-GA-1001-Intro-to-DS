{
 "cells": [
  {
   "cell_type": "markdown",
   "metadata": {},
   "source": [
    "# Introduction to Data Science\n",
    "## Homework 5"
   ]
  },
  {
   "cell_type": "markdown",
   "metadata": {},
   "source": [
    "Student Name: Chutang Luo\n",
    "\n",
    "Student Netid: cl5293"
   ]
  },
  {
   "cell_type": "markdown",
   "metadata": {},
   "source": [
    "### Part 1: Naive Bayes (5 Points)"
   ]
  },
  {
   "cell_type": "markdown",
   "metadata": {},
   "source": [
    "1\\. From your reading you know that the naive Bayes classifier works by calculating the conditional probabilities of each feature, $e_i$, occuring with each class $c$ and treating them independently. This results in the probability of a certain class occuring given a set of features, or a piece of evidence, $E$, as\n",
    "\n",
    "$$P(c \\mid E) = \\frac{p(e_1 \\mid c) \\cdot p(e_2 \\mid c) \\cdot \\cdot \\cdot p(e_k \\mid c) \\cdot p(c)}{p(E)}.$$\n",
    "\n",
    "The conditional probability of each piece of evidence occuring with a given class is given by\n",
    "\n",
    "$$P(e_i \\mid c) = \\frac{\\text{count}(e_i, c)}{\\text{count}(c)}.$$\n",
    "\n",
    "In the above equation $\\text{count}(e_i, c)$ is the number of documents in a given class that contain feature $e_i$ and $\\text{count}(c)$ is the number of documents that belong to class $c$. \n",
    "\n",
    "A common variation of the above is to use Laplace (sometimes called +1) smoothing. Recall the use of Laplace smoothing introduced toward the end of Chapter 3 in the section Probability Estimation. This is done in sklearn by setting `alpha=1` in the `BernoulliNB()` function (this is also the default behavior). The result of Laplace smoothing will slightly change the conditional probabilities,\n",
    "\n",
    "$$P(e_i \\mid c) = \\frac{\\text{count}(e_i, c) + 1}{\\text{count}(c) + 2}.$$\n",
    "\n",
    "In no more than **one paragraph**, describe why this is useful, and use the bias-variance tradeoff to justify its use. Try to think of a case when not using Laplace smoothing would result in \"bad\" models. Try to give an example. Be precise."
   ]
  },
  {
   "cell_type": "markdown",
   "metadata": {},
   "source": [
    "If we don't use Laplace smoothing, if a feature $e_i$ in the testing data is not in the training data, count($e_i,c$)=0. When calculating the the probability of a certain class occuring given a set of features, we need to multiply the probabilities, here  P($e_i$ | $c$)=0 would be introduced and we have P($c$ | E) as final result, which leads to a failure in preserving the information contributed by the non-zero probabilities and may lead to a wrong answer. Thus, a small weight is needed so that we could take the feature $e_i$ into account, which is Laplace smoothing. The variance could be high if we don't use Laplace smoothing, because the original method of calculation only fits the certain training data better. If we use a very different training dataset or testing dataset, the probability of unknown words would be zero and this will results in a wrong probablity of the classification, which is not accurate and may increase both variance and bias. Using Laplace smoothing could solve the problem of unknown features, which leads to lower variance and maybe lower bias. For example, the testing data is \"a very close basketball game\" and the word \"close\" is not included in the training data. The testing data indeed should be in the \"sports\" category. However, if we do not use Laplace smoothing, given the class sports, the probablity of \"close\" in this class is 0; when we calculate the probability of \"sports\" occuring given this sentence, we would gain a zero answer: the sentence does not belong to the \"sports\" category, which does not match the real situation. Using Laplace smoothing can avoid this problem and therefore leads to a more accurate calculation."
   ]
  },
  {
   "cell_type": "markdown",
   "metadata": {},
   "source": [
    "### Part 2: Text classification for sentiment analysis (20 Points)\n",
    "For this part of the assignment, we are going to use a data set of movie ratings from IMDB.com. The data consists of the text of a movie review and a target variable which tells us whether the reviewer had a positive feeling towards the movie (equivalent to rating the movie between 7 and 10) or a negative feeling (rating the movie between 1 and 4). Neutral reactions are not included in the data.\n",
    "\n",
    "The first column is the review text; the second is the text label 'P' for positive or 'N' for negative."
   ]
  },
  {
   "cell_type": "markdown",
   "metadata": {},
   "source": [
    "1 (1 Point) \\. Load the data into a pandas `DataFrame()`."
   ]
  },
  {
   "cell_type": "code",
   "execution_count": 4,
   "metadata": {},
   "outputs": [
    {
     "data": {
      "text/html": [
       "<div>\n",
       "<style scoped>\n",
       "    .dataframe tbody tr th:only-of-type {\n",
       "        vertical-align: middle;\n",
       "    }\n",
       "\n",
       "    .dataframe tbody tr th {\n",
       "        vertical-align: top;\n",
       "    }\n",
       "\n",
       "    .dataframe thead th {\n",
       "        text-align: right;\n",
       "    }\n",
       "</style>\n",
       "<table border=\"1\" class=\"dataframe\">\n",
       "  <thead>\n",
       "    <tr style=\"text-align: right;\">\n",
       "      <th></th>\n",
       "      <th>Text</th>\n",
       "      <th>Class</th>\n",
       "    </tr>\n",
       "  </thead>\n",
       "  <tbody>\n",
       "    <tr>\n",
       "      <td>0</td>\n",
       "      <td>'One of the first of the best musicals Anchors...</td>\n",
       "      <td>P</td>\n",
       "    </tr>\n",
       "    <tr>\n",
       "      <td>1</td>\n",
       "      <td>'Visually disjointed and full of itself the di...</td>\n",
       "      <td>N</td>\n",
       "    </tr>\n",
       "    <tr>\n",
       "      <td>2</td>\n",
       "      <td>'These type of movies about young teenagers st...</td>\n",
       "      <td>P</td>\n",
       "    </tr>\n",
       "    <tr>\n",
       "      <td>3</td>\n",
       "      <td>'I would rather of had my eyes gouged out with...</td>\n",
       "      <td>N</td>\n",
       "    </tr>\n",
       "    <tr>\n",
       "      <td>4</td>\n",
       "      <td>'The title says it all. Tail Gunner Joe was a ...</td>\n",
       "      <td>N</td>\n",
       "    </tr>\n",
       "    <tr>\n",
       "      <td>...</td>\n",
       "      <td>...</td>\n",
       "      <td>...</td>\n",
       "    </tr>\n",
       "    <tr>\n",
       "      <td>8495</td>\n",
       "      <td>'Alright friends a serious movie buff is expec...</td>\n",
       "      <td>N</td>\n",
       "    </tr>\n",
       "    <tr>\n",
       "      <td>8496</td>\n",
       "      <td>'I found this film embarrassing to watch. I fe...</td>\n",
       "      <td>N</td>\n",
       "    </tr>\n",
       "    <tr>\n",
       "      <td>8497</td>\n",
       "      <td>'To put it simply I am not fond of westerns. A...</td>\n",
       "      <td>N</td>\n",
       "    </tr>\n",
       "    <tr>\n",
       "      <td>8498</td>\n",
       "      <td>'Some of these viewer comments are just ridicu...</td>\n",
       "      <td>N</td>\n",
       "    </tr>\n",
       "    <tr>\n",
       "      <td>8499</td>\n",
       "      <td>'Sometimes a premise starts out good but becau...</td>\n",
       "      <td>N</td>\n",
       "    </tr>\n",
       "  </tbody>\n",
       "</table>\n",
       "<p>8500 rows × 2 columns</p>\n",
       "</div>"
      ],
      "text/plain": [
       "                                                   Text Class\n",
       "0     'One of the first of the best musicals Anchors...     P\n",
       "1     'Visually disjointed and full of itself the di...     N\n",
       "2     'These type of movies about young teenagers st...     P\n",
       "3     'I would rather of had my eyes gouged out with...     N\n",
       "4     'The title says it all. Tail Gunner Joe was a ...     N\n",
       "...                                                 ...   ...\n",
       "8495  'Alright friends a serious movie buff is expec...     N\n",
       "8496  'I found this film embarrassing to watch. I fe...     N\n",
       "8497  'To put it simply I am not fond of westerns. A...     N\n",
       "8498  'Some of these viewer comments are just ridicu...     N\n",
       "8499  'Sometimes a premise starts out good but becau...     N\n",
       "\n",
       "[8500 rows x 2 columns]"
      ]
     },
     "execution_count": 4,
     "metadata": {},
     "output_type": "execute_result"
    }
   ],
   "source": [
    "import pandas as pd\n",
    "import numpy as np\n",
    "import random\n",
    "import warnings\n",
    "warnings.filterwarnings(\"ignore\")\n",
    "\n",
    "df=pd.read_csv('imdb.csv')\n",
    "df"
   ]
  },
  {
   "cell_type": "markdown",
   "metadata": {},
   "source": [
    "2 (1 Point)\\. Code the target variable to be numeric: use the value `1` to represent 'P' and `0` to represent 'N'."
   ]
  },
  {
   "cell_type": "code",
   "execution_count": 6,
   "metadata": {},
   "outputs": [],
   "source": [
    "df.loc[df['Class'] =='P','Class']=1\n",
    "df.loc[df['Class'] =='N','Class']=0"
   ]
  },
  {
   "cell_type": "markdown",
   "metadata": {},
   "source": [
    "3 (2 Points)\\. Put all of the text into a data frame called `X` and the target variable in a data frame called `Y`. Make a train/test split where you give 75% of the data to training. Feel free to use any function from sklearn."
   ]
  },
  {
   "cell_type": "code",
   "execution_count": 7,
   "metadata": {},
   "outputs": [],
   "source": [
    "from sklearn.model_selection import train_test_split\n",
    "X=df['Text']\n",
    "Y=df['Class']\n",
    "X_train, X_test, y_train, y_test = train_test_split(X,Y,train_size=0.75)"
   ]
  },
  {
   "cell_type": "markdown",
   "metadata": {},
   "source": [
    "4 (5 Points)\\. Create a binary `CountVectorizer()` and a binary `TfidfVectorizer()`. Use the original single words as well as bigrams (in the same model). Also, use an \"english\" stop word list. Fit these to the training data to extract a vocabulary and then transform both the train and test data. Hint - look at the API documentation for both vectorizers to see what we mean by \"binary.\""
   ]
  },
  {
   "cell_type": "code",
   "execution_count": 8,
   "metadata": {},
   "outputs": [],
   "source": [
    "from sklearn.feature_extraction.text import CountVectorizer\n",
    "from sklearn.feature_extraction.text import TfidfVectorizer\n",
    "\n",
    "count_vector = CountVectorizer(binary=True,ngram_range=(1,2),stop_words='english')\n",
    "count_vector=count_vector.fit(X_train)\n",
    "X_train_count = count_vector.transform(X_train)\n",
    "X_test_count = count_vector.transform(X_test)\n",
    "\n",
    "tf_idf = TfidfVectorizer(binary=True,ngram_range=(1,2),stop_words='english')\n",
    "X_train_tfidf = tf_idf.fit_transform(X_train)\n",
    "X_test_tfidf = tf_idf.transform(X_test)\n",
    "\n",
    "y_train=y_train.values.astype('int')\n",
    "y_test=y_test.values.astype('int')"
   ]
  },
  {
   "cell_type": "markdown",
   "metadata": {},
   "source": [
    "5 (6 Points)\\. Create `LogisticRegression()` and `BernoulliNB()` models. For all settings, keep the default values. In a single plot, show the AUC curve for both classifiers and both vectorizers defined above. In the legend, include the area under the ROC curve (AUC). Do not forget to label your axes. Your final plot will be a single window with 4 curves.\n",
    "\n",
    "Which model do you think does a better job? Why? Explain in no more than a paragraph.\n",
    "\n",
    "Extra credit (2 points): Do any of the options perform identically? If so, can you explain why?"
   ]
  },
  {
   "cell_type": "code",
   "execution_count": 147,
   "metadata": {},
   "outputs": [],
   "source": [
    "# Run this so your plots show properly\n",
    "import matplotlib.pyplot as plt\n",
    "%matplotlib inline\n",
    "plt.rcParams['figure.figsize'] = 12, 12"
   ]
  },
  {
   "cell_type": "code",
   "execution_count": 148,
   "metadata": {
    "scrolled": false
   },
   "outputs": [
    {
     "data": {
      "image/png": "[encoded data removed]",
      "text/plain": [
       "<Figure size 864x864 with 1 Axes>"
      ]
     },
     "metadata": {
      "needs_background": "light"
     },
     "output_type": "display_data"
    }
   ],
   "source": [
    "from sklearn.linear_model import LogisticRegression\n",
    "from sklearn.naive_bayes import BernoulliNB\n",
    "from sklearn import metrics\n",
    "\n",
    "\n",
    "# use LogisticRegression to predict data processed by CountVectorizer\n",
    "lr_count=LogisticRegression()\n",
    "lr_count.fit(X_train_count,y_train)\n",
    "fpr, tpr, thresholds = metrics.roc_curve(y_test,lr_count.predict_proba(X_test_count)[:,1])\n",
    "\n",
    "plt.xlabel(\"false positive rate\")\n",
    "plt.ylabel(\"true positive rate\")\n",
    "plt.plot(fpr, tpr, label = 'CountVectorizer LR : ' + str(metrics.auc(fpr, tpr)))\n",
    "\n",
    "\n",
    "# use LogisticRegression to predict data processed by TfidfVectorizer\n",
    "lr_tfidf=LogisticRegression()\n",
    "lr_tfidf=lr_tfidf.fit(X_train_tfidf, y_train)\n",
    "fpr, tpr, thresholds = metrics.roc_curve(y_test,lr_tfidf.predict_proba(X_test_tfidf)[:,1])\n",
    "plt.plot(fpr, tpr, label = 'TfidfVectorizer LR : ' + str(metrics.auc(fpr, tpr)))\n",
    "\n",
    "# use BernoulliNB to predict data processed by CountVectorizer\n",
    "bnb_count=BernoulliNB()\n",
    "bnb_count=bnb_count.fit(X_train_count, y_train)\n",
    "fpr, tpr, thresholds = metrics.roc_curve(y_test,bnb_count.predict_proba(X_test_count)[:,1])\n",
    "plt.plot(fpr, tpr, label = 'CountVectorizer BNB : ' + str(metrics.auc(fpr, tpr)))\n",
    "\n",
    "# use BernoulliNB to predict data processed by TfidfVectorizer\n",
    "bnb_tfidf=BernoulliNB()\n",
    "bnb_tfidf=bnb_tfidf.fit(X_train_tfidf, y_train)\n",
    "fpr, tpr, thresholds = metrics.roc_curve(y_test,bnb_tfidf.predict_proba(X_test_tfidf)[:,1])\n",
    "plt.plot(fpr, tpr, label = 'TfidfVectorizer BNB : ' + str(metrics.auc(fpr, tpr)))\n",
    "\n",
    "plt.legend()\n",
    "plt.show()\n"
   ]
  },
  {
   "cell_type": "markdown",
   "metadata": {},
   "source": [
    "From the graph above and the AUC score, we can see that the LogisticRegression model performs better than BernoulliNB model in both the CountVectorizer and TfidfVectorizer. BernoulliNB has a naive assumption of conditional independence for every feature. However, in real life, real data sets are never perfectly independent. In this case, the assumptions of BernoulliNB can not be well satisfied, so the Logistics model performs better. Naive Bayes has a higher bias but lower variance compared to logistic regression. If the data set does not follows the bias, then BernoulliNB could not be a better classifier. \n",
    "\n",
    "The option of CountVectorizer, BernoulliNB and the option of TfidfVectorizer, BernoulliNB perform identically. This is because BernoulliNB is designed for binary/boolean features. In CountVectorizer(), we set binary=True, which all non zero counts are set to 1. In the data tranformed by CountVectorizer(), every element is either 0 or 1, so the data is binary. In TfidfVectorizer(), binary=True only set the tf term binary, and the idf term is still continous, so the data transformed by TfidfVectorizer() is still continous. However, as BernoulliNB can only handle binary features, so the continuity of the data would be of no use in the model. For the data transformed by TfidfVectorizer(), BernoulliNB treats the data as binary, that is to set the non-zero data as 1, and zero remains zero; in this case, the training data would be just the same as the data transformed by CountVectorizer(). Therefore, though we use different methods to transform the data, due to the property of BernoulliNB, it still generates the same results for different training data."
   ]
  },
  {
   "cell_type": "markdown",
   "metadata": {
    "collapsed": true
   },
   "source": [
    "5\\. Use the model from question 4 that you think did the best job and predict the rating of the test data. Find 5 examples were labeled positive, but were incorrectly classified as negative. Print out the reviews below and include an explanation as to why you think it may have been incorrectly classified. You can pick any 5. They do not have to be at random."
   ]
  },
  {
   "cell_type": "code",
   "execution_count": 227,
   "metadata": {},
   "outputs": [
    {
     "name": "stdout",
     "output_type": "stream",
     "text": [
      "[0 0 0 0 0 0 0 0 0 0 0 0 0 0 0 0 0 0 0 0 0 0 0 0 0 0 0 0 0 0 0 0 0 0 0 0 0\n",
      " 0 0 0 0 0 0 0 0 0 0 0 0 0 0 0 0 0 0 0 0 0 0 0 0 0 0 0 0 0 0 0 0 0 0 0 0 0\n",
      " 0 0 0 0 0 0 0 0 0 0 0 0 0 0 0 0 0 0 0 0 0 0 0 0 0 0 0 0 0 0 0 0 0 0 0 0 0\n",
      " 0 0 0 0 0 0 0 0 0 0 0 0 0 0 0 0 0 0 0 0 0 0 0 0 0] [1 1 1 1 1 1 1 1 1 1 1 1 1 1 1 1 1 1 1 1 1 1 1 1 1 1 1 1 1 1 1 1 1 1 1 1 1\n",
      " 1 1 1 1 1 1 1 1 1 1 1 1 1 1 1 1 1 1 1 1 1 1 1 1 1 1 1 1 1 1 1 1 1 1 1 1 1\n",
      " 1 1 1 1 1 1 1 1 1 1 1 1 1 1 1 1 1 1 1 1 1 1 1 1 1 1 1 1 1 1 1 1 1 1 1 1 1\n",
      " 1 1 1 1 1 1 1 1 1 1 1 1 1 1 1 1 1 1 1 1 1 1 1 1 1]\n",
      "'Didnt Mystic Pizza win the Oscar for that year? This movie never had a chance due to the casting but perhaps by now people can see why I felt that way upon leaving the theater. Only Wargames left me feeling similarly disturbed after leaving the theater with the feeling I was getting a glimpse of our future. History has shown that this is exactly what happened. The casting is a pop-culture Cuisinart of the 1980s: you get Arnold as Ben Richards the framed fugitive offered a chance to run for his freedom on the game show with the same title as the movie; Richard Dawson as Damon Killian treating his role as if he were the host of Family Feud with the contestants using real guns; Jesse Ventura as Captain Freedom and co-wrestler Professor Tanaka as Subzero both stalkers who kill the running men. Even Mick Fleetwood (Mic) and Dweezil Zappa (Stevie) show up while the dancers of the future are none other than the Laker Girls. This movie SCREAMS 80s. The plot is a good excuse for the action: Ben Richards is determined to prove his innocence but agrees to be the Running Man when he is told that his buddies would be set free; instead they join him as contestants. Maria Conchita Alonzo as Amber Mendez is the standard by which one can properly judge Salma Hayek in the 1990s. The production value on the film was a bit poor the lines were cheesy and (at the time) the plot seemed a bit far-fetched. I remember thinking when I was leaving the theater that we were definitely heading in the direction of the film but who could have seen how far wed go there and how fast? If The Running Man were listed in TV Guide most people would assume it were just another reality show pushing the envelope today. The government influences on the media have only gotten worse and the dumbed-down American public of the future that surrenders all of its freedoms for national security is downright chilling. Ben Richards is played brilliantly by Arnold as one of the few remaining holdouts against a government tyranny that the rest of America is all too willing to accept in return for good television and some parting gifts for the audience. The movie was way over the top maybe even off the cliff for its time but as with Back to the Future III the ravine it appeared to be sinking itself into in 1987 was replaced by completed tracks in 2006 and beyond and this movie will sail into the future as one of the more prophetic films of our time. It is tragic that as with Wargames the academy did not give this brilliant screenplay the recognition it deserved. Serious actors acting seriously while being so pretentious that you want to throw up may win more Oscars but that doesnt make them better films than their common man counterparts such as this one. An absolute must-see.'\n",
      "'This was a strong Poirot/Suchet television mystery selection. The characters were vivid and well-acted. The plot and the main setting--a student hostel-- were excellent. Japp was nothing special but for me did not distract from story. One significant point many Poirot watchers dont recognize good acting or good characterization. I also think they are rather harsh in their judgments of some of the Poirot mysteries. Finally I have read few Christie novels--none in recent years-- and find it annoying that so many viewers are upset about changes from the novel. Please viewers consider what is presented to you on film not what you think should be there. That said the Poirot mysteries vary in quality but not as much as reviewers and raters would have you believe. With the singular exception of The Five Little Pigs which was fabulous in plot character and theme the longer Poirot films are neither that good or that bad. For the record I have seen all the longer Poirot/Suchet films. Finally films without Lemon Hastings and/or Japp are neither good nor bad because of their absence. There presence however is either obtrusive (almost always with Japp) or irrelevant with Hastings. Lemon is in the middle.'\n",
      "'I gave this movie a 10 because it needed to be rewarded for its scary elements and actors AND my god the enging! The thing is I dont want to tell anyone anything about the acting or story because it will ruin the movie. But I will recommend that you go straight to your nearest moviestore right now and rent it! (Dont forget popcorn!)'\n",
      "'I wouldnt go so far as to not recommend this movie since the only problems I have with it are due to an overexposure to the plot devices used in the movie - the sort of things common to every kids movie ever made it seems. That doesnt make it bad just not something Id go far. It is a little saccharine so I might say that for the most part anyone looking for something with a little more wit could be disappointed in an obviously for-kids movie like this. However all of that goes out the window when that squirrel (the one in all the trailers) comes on-screen. His time is limited but it seems apparent that the decision makers had the wisdom to tell these guys hey could you stick in a little more squirrel? every time its getting intolerably dull. That doesnt save the movie but you can leave saying at least there was one aspect where I couldnt stop laughing. And of course visually it wont disappoint but thats almost a given with Pixar flicks. Of all of their stuff Id put this at the bottom...but that isnt in itself bad.'\n",
      "'- After their sons are sentenced to life in prison Adelle (Debbie Reynolds) and Helen (Shirley Winters) begin receiving threatening phone calls because someone fells their sons got off easy. The pair decides to move to California to escape the publicity of the trial and to start a new life. They start a dance school that is soon very successful. One of the students has a rich unmarried father with whom Adelle quickly falls in love. In the meantime Helen is busy raising rabbits and becoming a little too infatuated with an evangelist on the radio. Its only a mater of time before everything falls apart and the women enter a world of madness and murder. - I cant help but compare Whats the Matter with Helen? to Whoever Slew Auntie Roo? also starring Shelly Winters. Where that movie seemed almost restrained in its presentation of Auntie Roos madness theres nothing holding Helen back in this movie. It may take a good deal of the movies running time but once she snaps Helen is one Bad Mad Mutha. You dont want to mess with her. Winters is so delightfully demented that it was impossible for me not to enjoy her performance. Im not going to spoil the movie but the things Helen is capable of are totally over-the-top. - As good as Winters is Reynolds is totally ridiculous in her role as the gold-digging tap dancer. I got the impression that she thought she was in a movie that would get her nominated for some award. This aint Citizen Kane! Quit acting so serious. Hey Debbie dont you realize that youre main purpose is to be a victim of Winters insanity. - I just love these former-female-stars-in-the-twilight-of-their-career horror movies. Whats the Matter with Helen? is as fun as any.'\n"
     ]
    }
   ],
   "source": [
    "diff=lr_tfidf.predict(X_test_tfidf) != y_test \n",
    "index_diff=np.where(diff==True) #index of prediction that does not matches the test data\n",
    "i=0\n",
    "pos_index=y_test[index_diff]==1\n",
    "diff_pos=np.where(pos_index==1)\n",
    "index_diff_pos=index_diff[0][diff_pos] #finding the index of examples were labeled positive, but were incorrectly classified as negative.\n",
    "\n",
    "for i in range(5):\n",
    "    print(X_test.values[index_diff_pos[i]])"
   ]
  },
  {
   "cell_type": "markdown",
   "metadata": {},
   "source": [
    "Review 1: Indeed this is a positive review, because the writer said \"an absolute must-see\" at the end. When describing the plot of the film, the writer uses a series of negative words such as gotten-worse, dumbed-down,downright chilling and so on. Considering the use of these negative words, the review was wrongly classified as a negative ones.\n",
    "\n",
    "Review 2: The writer the characters and story settings are excellent, but then the writer use words like distract, annoy, upset to describe the plot, which leads to a wrong classification of the review.\n",
    "\n",
    "Review 3: The writer would like to rate this movie 10, so this is a positive review. However, the writer uses words like scary, ruin, which may lead to a wrong classification of the review.\n",
    "\n",
    "Review 4: The writer says  wouldn't go so far as to not recommend this movie, so this is a positive review. However, negative words like problems, bad, disappointed, dull in the description for the plot, so the review has been wrongly classified.\n",
    "\n",
    "Review 5: The writer says  it was impossible not to enjoy her performance, so this is a positive review. However, some negative words are used for the description of the story, such as bad, mess, madness, horror, so the review was wrongly classified."
   ]
  }
 ],
 "metadata": {
  "anaconda-cloud": {},
  "kernelspec": {
   "display_name": "Python 3",
   "language": "python",
   "name": "python3"
  },
  "language_info": {
   "codemirror_mode": {
    "name": "ipython",
    "version": 3
   },
   "file_extension": ".py",
   "mimetype": "text/x-python",
   "name": "python",
   "nbconvert_exporter": "python",
   "pygments_lexer": "ipython3",
   "version": "3.7.4"
  }
 },
 "nbformat": 4,
 "nbformat_minor": 1
}
