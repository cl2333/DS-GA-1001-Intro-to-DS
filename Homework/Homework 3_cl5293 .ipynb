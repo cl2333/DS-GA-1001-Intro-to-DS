{
 "cells": [
  {
   "cell_type": "markdown",
   "metadata": {},
   "source": [
    "# Introduction to Data Science\n",
    "## Homework 3"
   ]
  },
  {
   "cell_type": "markdown",
   "metadata": {},
   "source": [
    "Student Name: Chutang Luo\n",
    "\n",
    "Student Netid: cl5293"
   ]
  },
  {
   "cell_type": "markdown",
   "metadata": {},
   "source": [
    "### Part 1 (5 Points)\n",
    "Assume that $X$ and $Y$ are discrete random variables. The formulas for Mutual Information, Entropy and Conditional Entropy are given by:\n",
    "\n",
    "$$\\text{Mutual Information} = \\sum_{y \\in Y} \\sum_{x \\in X} p(x, y) \\cdot log\\frac{p(x, y)}{p(x)p(y)}$$\n",
    "\n",
    "$$\\text{Entropy} = H(Y) = -\\sum_{y \\in Y} p(y) \\cdot log(p(y))$$\n",
    "\n",
    "$$\\text{Conditional Entropy} = H(Y \\mid X) = \\sum_{x \\in X} p(x) \\cdot H(Y \\mid X = x)$$\n",
    "\n",
    "Show mathematically that $\\text{Mutual Information} = \\text{Information Gain}$, where $\\text{Information Gain} = H(Y) – H(Y \\mid X)$. Give the derivation below (note, this can be done using Latex math notation, which renders nicely. See above. Feel free to do it by hand and submit an image of your proof)."
   ]
  },
  {
   "cell_type": "markdown",
   "metadata": {},
   "source": [
    "$$\\begin{align*}\n",
    "\\text{Information Gain} &= H(Y) – H(Y \\mid X) \\\\\n",
    "&=  -\\sum_{y \\in Y} p(y) \\cdot log(p(y)) -\\sum_{x \\in X} p(x) \\cdot H(Y \\mid X = x) \\\\\n",
    "&= -\\sum_{y \\in Y} \\left( \\sum_{x \\in X} p(x,y)\\right ) \\cdot log(p(y))-\\sum_{x \\in X} p(x) \\left(-\\sum_{y \\in Y}p(y\\mid x)log (p(y\\mid x)) \\right )\\\\\n",
    "&= \\sum_{x \\in X} p_X(x) \\sum_{y \\in Y}p(y \\mid x)log (p(y\\mid x)) -\\sum_{y \\in Y} \\left( \\sum_{x \\in X} p(x,y)\\right ) \\cdot log(p(y)) \\\\\n",
    "&= \\sum_{y \\in Y} \\sum_{x \\in X} p(x) p(y\\mid x)log (p(y\\mid x)) -\\sum_{y \\in Y} \\sum_{x \\in X}  p(x,y) \\cdot log(p(y)) \\\\\n",
    "&=\\sum_{y \\in Y} \\sum_{x \\in X} p(x,y)\\cdot log (\\frac{p(x,y)}{ p(x)}) -\\sum_{y \\in Y} \\sum_{x \\in X}  p(x,y) \\cdot log(p(y)) \\\\\n",
    "&=\\sum_{y \\in Y} \\sum_{x \\in X} p(x, y) \\cdot log\\frac{p(x, y)}{p(x)p(y)}=\\text{Mutual Information}\n",
    "\\end{align*}$$"
   ]
  },
  {
   "cell_type": "markdown",
   "metadata": {},
   "source": [
    "### Part 2 - Preparing a Training Set and Training a Decision Tree (10 Points)\n",
    "This is a hands-on task where we build a predictive model using Decision Trees discussed in class. For this part, we will be using the data in `cell2cell_data.csv`.\n",
    "\n",
    "These historical data consist of 39,859 customers: 19,901 customers that churned (i.e., left the company) and 19,958 that did not churn (see the `\"churndep\"` variable). Here are the data set's 11 possible predictor variables for churning behavior: \n",
    "\n",
    "```\n",
    "Pos.  Var. Name  Var. Description\n",
    "----- ---------- --------------------------------------------------------------\n",
    "1     revenue    Mean monthly revenue in dollars\n",
    "2     outcalls   Mean number of outbound voice calls\n",
    "3     incalls    Mean number of inbound voice calls\n",
    "4     months     Months in Service\n",
    "5     eqpdays    Number of days the customer has had his/her current equipment\n",
    "6     webcap     Handset is web capable\n",
    "7     marryyes   Married (1=Yes; 0=No)\n",
    "8     travel     Has traveled to non-US country (1=Yes; 0=No)\n",
    "9     pcown      Owns a personal computer (1=Yes; 0=No)\n",
    "10    creditcd   Possesses a credit card (1=Yes; 0=No)\n",
    "11    retcalls   Number of calls previously made to retention team\n",
    "```\n",
    "\n",
    "The 12th column, the dependent variable `\"churndep\"`, equals 1 if the customer churned, and 0 otherwise. "
   ]
  },
  {
   "cell_type": "markdown",
   "metadata": {},
   "source": [
    "1\\. Load the data and prepare it for modeling. Note that the features are already processed for you, so the only thing needed here is split the data into training and testing. Use pandas to create two data frames: train_df and test_df, where train_df has 80% of the data chosen uniformly at random without replacement (test_df should have the other 20%). Also, make sure to write your own code to do the splits. You may use any random() function in numpy but DO NOT use the data splitting functions from Sklearn."
   ]
  },
  {
   "cell_type": "code",
   "execution_count": 3,
   "metadata": {},
   "outputs": [
    {
     "name": "stdout",
     "output_type": "stream",
     "text": [
      "   revenue  outcalls  incalls  months  eqpdays  webcap  marryyes  travel  \\\n",
      "0    48.82     10.00      3.0      26      780       0         0       0   \n",
      "1    83.53     20.00      1.0      31      745       1         0       0   \n",
      "2    29.99      0.00      0.0      52     1441       0         0       0   \n",
      "3    51.42      0.00      0.0      36       59       1         0       0   \n",
      "4    37.75      2.67      0.0      25      572       0         0       0   \n",
      "\n",
      "   pcown  creditcd  retcalls  churndep  \n",
      "0      0         1         4         1  \n",
      "1      0         0         4         1  \n",
      "2      1         1         3         1  \n",
      "3      0         0         4         1  \n",
      "4      1         1         3         1  \n"
     ]
    }
   ],
   "source": [
    "import pandas as pd\n",
    "import numpy as np\n",
    "import random\n",
    "\n",
    "df=pd.read_csv('cell2cell_data.csv')\n",
    "print(df.head())\n",
    "\n",
    "train_df=df.sample(frac=0.8, random_state=1)\n",
    "test_df=df[~df.index.isin(train_df.index)]"
   ]
  },
  {
   "cell_type": "markdown",
   "metadata": {},
   "source": [
    "2\\. If we had to, how would we prove to ourselves or a colleague that our data was indeed randomly sampled on X? And by prove, I mean empirically, not just showing this person our code. Don't actually do the work, just describe in your own words a test you could here. Hint: think about this in terms of selection bias and use notes from our 2nd lecture."
   ]
  },
  {
   "cell_type": "markdown",
   "metadata": {},
   "source": [
    "We can prove that  our data was indeed randomly sampled on X by showing that the rate of churn in the training data set and testing data set is exactly the same as the rate of churn in the entire dataset. This means being churn has nothing to do with the data is in training set or testing set, P(churn |training)=(churn | testing)=P(churn).Therefore, there is no selection bias and the data was  randomly sampled on X."
   ]
  },
  {
   "cell_type": "markdown",
   "metadata": {},
   "source": [
    "3\\. Now build and train a decision tree classifier using `DecisionTreeClassifier()` [(manual page)](http://scikit-learn.org/stable/modules/generated/sklearn.tree.DecisionTreeClassifier.html) on train_df to predict the `\"churndep\"` target variable. Make sure to use `criterion='entropy'` when instantiating an instance of `DecisionTreeClassifier()`. For all other settings you should use all of the default options."
   ]
  },
  {
   "cell_type": "code",
   "execution_count": 4,
   "metadata": {},
   "outputs": [],
   "source": [
    "from sklearn.tree import DecisionTreeClassifier\n",
    "dtc=DecisionTreeClassifier(\n",
    "    criterion='entropy')\n",
    "train_y=train_df['churndep'].values\n",
    "train_X=train_df.drop('churndep',axis=1).values\n",
    "test_y=test_df['churndep'].values\n",
    "test_X=test_df.drop('churndep',axis=1).values\n",
    "model=dtc.fit(train_X,train_y)"
   ]
  },
  {
   "cell_type": "markdown",
   "metadata": {},
   "source": [
    "4\\. Using the resulting model from 2.3, show a bar plot of feature names and their feature importance (hint: check the attributes of the `DecisionTreeClassifier()` object directly in IPython or check the manual!). Make sure the bar plot is sorted by increasing feature importance values."
   ]
  },
  {
   "cell_type": "code",
   "execution_count": 5,
   "metadata": {},
   "outputs": [
    {
     "data": {
      "image/png": "[encoded data removed]",
      "text/plain": [
       "<Figure size 432x288 with 1 Axes>"
      ]
     },
     "metadata": {
      "needs_background": "light"
     },
     "output_type": "display_data"
    }
   ],
   "source": [
    "import matplotlib.pyplot as plt\n",
    "%matplotlib inline\n",
    "importances = model.feature_importances_\n",
    "indices = np.argsort(importances)\n",
    "names = [train_df.columns[i] for i in indices]\n",
    "plt.figure()\n",
    "plt.title(\"Feature Importance\")\n",
    "plt.barh(range(train_X.shape[1]),importances[indices],align='center', alpha=0.5)\n",
    "plt.yticks(range(train_X.shape[1]), names)\n",
    "plt.show()"
   ]
  },
  {
   "cell_type": "markdown",
   "metadata": {},
   "source": [
    "5\\. Is the relationship between the top 3 most important features (as measured here) negative or positive? If your marketing director asked you to explain the top 3 drivers of churn, how would you interpret the relationship between these 3 features and the churn outcome? What \"real-life\" connection can you draw between each variable and churn? Make sure to state your answer, and not just show code."
   ]
  },
  {
   "cell_type": "code",
   "execution_count": 6,
   "metadata": {},
   "outputs": [
    {
     "data": {
      "text/plain": [
       "array([[ 1.        , -0.01227236],\n",
       "       [-0.01227236,  1.        ]])"
      ]
     },
     "execution_count": 6,
     "metadata": {},
     "output_type": "execute_result"
    }
   ],
   "source": [
    "np.corrcoef(train_df['revenue'],train_df['churndep'])"
   ]
  },
  {
   "cell_type": "code",
   "execution_count": 7,
   "metadata": {},
   "outputs": [
    {
     "data": {
      "text/plain": [
       "array([[1.        , 0.11430687],\n",
       "       [0.11430687, 1.        ]])"
      ]
     },
     "execution_count": 7,
     "metadata": {},
     "output_type": "execute_result"
    }
   ],
   "source": [
    "np.corrcoef(train_df['eqpdays'],train_df['churndep'])"
   ]
  },
  {
   "cell_type": "code",
   "execution_count": 8,
   "metadata": {},
   "outputs": [
    {
     "data": {
      "text/plain": [
       "array([[ 1.        , -0.03542068],\n",
       "       [-0.03542068,  1.        ]])"
      ]
     },
     "execution_count": 8,
     "metadata": {},
     "output_type": "execute_result"
    }
   ],
   "source": [
    "np.corrcoef(train_df['outcalls'],train_df['churndep'])"
   ]
  },
  {
   "cell_type": "markdown",
   "metadata": {},
   "source": [
    "The top 3 most important feature are \"Mean monthly revenue in dollars\",\"Number of days the customer has had his/her current equipment\" and \"Mean number of outbound voice calls\". (1) \"Mean monthly revenue in dollars\" has a negative relationship with \"churndep\". If a customer has higher mean monthly revenue in dollars,  he/she would be less likely to churn. In real life, customers with higher income may not care that much about money, and he/she may get used to the service of the certain company and would not make a change so often. Customers with lower income may keep seeking a cheaper service and try to save more money, so they may be easier to churn.  (2)\"Number of days the customer has had his/her current equipment\" has a positive relationship with \"churndep\". Customers who have their current equipment for a longer time are more likely to churn. These kinds of customers may more likely tend to change for a new equipment and by that time, they may change the company providing the service as well.  (3)\"Mean number of outbound voice calls\" has a negative relationship with \"churndep\". If a customer has more voice calls, he/she would be less likely to churn. Customers who make more phone calls are more likely to think that the service is very helpful for them, so they are less likely to churn."
   ]
  },
  {
   "cell_type": "markdown",
   "metadata": {},
   "source": [
    "6\\. Using the classifier built in 2.3, try predicting \"churndep\" on both the train_df and test_df data sets. What is the accuracy on each? What is your explanation on the difference (or lackthereof) between the two accuracies?"
   ]
  },
  {
   "cell_type": "code",
   "execution_count": 6,
   "metadata": {},
   "outputs": [
    {
     "name": "stdout",
     "output_type": "stream",
     "text": [
      "The accuracy on train_df data sets = 0.9998118355442657\n",
      "The accuracy on train_df data sets = 0.5293527345709985\n"
     ]
    }
   ],
   "source": [
    "from sklearn.metrics import accuracy_score\n",
    "train_y_pred=model.predict(train_X)\n",
    "print('The accuracy on train_df data sets = {}'.format(accuracy_score(train_y,train_y_pred)))\n",
    "test_y_pred=model.predict(test_X)\n",
    "print('The accuracy on train_df data sets = {}'.format(accuracy_score(test_y,test_y_pred)))\n"
   ]
  },
  {
   "cell_type": "markdown",
   "metadata": {},
   "source": [
    "The accuracy is high in training data set but become relative low in testing data set. It is highly likely that the difference occurs because the model is overfitting. It did perform well in the training data set, but when given a new testing data set, the overfitted model does not work so well and has low accuracy."
   ]
  },
  {
   "cell_type": "markdown",
   "metadata": {},
   "source": [
    "### Part 3 - Finding a Good Decision Tree (10 Points)\n",
    "The default options for your decision tree may not be optimal. We need to analyze whether tuning the parameters can improve the accuracy of the classifier.  For the following options `min_samples_split` and `min_samples_leaf`:"
   ]
  },
  {
   "cell_type": "markdown",
   "metadata": {},
   "source": [
    "1\\. Generate a list of 10 values of each for the parameters mim_samples_split and min_samples_leaf. "
   ]
  },
  {
   "cell_type": "code",
   "execution_count": 31,
   "metadata": {},
   "outputs": [],
   "source": [
    "# Code here\n",
    "\n",
    "min_samples_split_values = list(range(100,1001,100)) \n",
    "min_samples_leaf_values = list(range(10,500,50)) "
   ]
  },
  {
   "cell_type": "markdown",
   "metadata": {},
   "source": [
    "2\\. Explain in words your reasoning for choosing the above ranges."
   ]
  },
  {
   "cell_type": "markdown",
   "metadata": {},
   "source": [
    "The data set we have is large, so both the min_samples_split and min_samples_leaf need to have a higher value to avoid overfitting. In the end, I chose the above ranges by running the code the in part 3.3 and found out these are the optimal ranges."
   ]
  },
  {
   "cell_type": "markdown",
   "metadata": {},
   "source": [
    "3\\. For each combination of values in 3.1 (there should be 100), build a new classifier and check the classifier's accuracy on the test data. Plot the test set accuracy for these options. Use the values of `min_samples_split` as the x-axis and generate a new series (line) for each of `min_samples_leaf`."
   ]
  },
  {
   "cell_type": "code",
   "execution_count": 54,
   "metadata": {
    "scrolled": true
   },
   "outputs": [
    {
     "data": {
      "text/plain": [
       "Text(0.5, 1.0, 'Accuracy by Hyperparameters')"
      ]
     },
     "execution_count": 54,
     "metadata": {},
     "output_type": "execute_result"
    },
    {
     "data": {
      "image/png": "[encoded data removed]",
      "text/plain": [
       "<Figure size 432x288 with 1 Axes>"
      ]
     },
     "metadata": {
      "needs_background": "light"
     },
     "output_type": "display_data"
    }
   ],
   "source": [
    "import matplotlib.pyplot as plt\n",
    "%matplotlib inline\n",
    "\n",
    "def testTreesAccuracy(X_train, y_train, X_test, y_test, split, leaf):\n",
    "    dtc = DecisionTreeClassifier(criterion='entropy', min_samples_leaf = leaf, min_samples_split = split)\n",
    "    model = dtc.fit(X_train, y_train)\n",
    "    #print(accuracy_score(y_test,model.predict(X_test)),split,leaf)\n",
    "    return accuracy_score(y_test,model.predict(X_test))\n",
    "    \n",
    "splits = min_samples_split_values\n",
    "leaves = min_samples_leaf_values\n",
    "\n",
    "res1 = dict()\n",
    "for d in splits:\n",
    "    res1[d] = list()\n",
    "\n",
    "\n",
    "for d in splits:\n",
    "    for l in leaves:\n",
    "        res1[d].append(testTreesAccuracy(train_X, train_y, test_X, test_y, d, l))\n",
    "            \n",
    "fig = plt.figure()\n",
    "ax=fig.add_subplot(111)\n",
    "colors=['b','g','r','c','m','y','k','pink','violet','orange']\n",
    "for i in range(0,10):\n",
    "    plt.plot(leaves,res1[splits[i]], colors[i], label = 'splits={}'.format(splits[i]))\n",
    "plt.legend(bbox_to_anchor=(1.5, 1),loc = 10)\n",
    "ax.set_xlabel('min_samples_split')\n",
    "ax.set_ylabel('Test Set Accuracy')\n",
    "plt.title('Accuracy by Hyperparameters')"
   ]
  },
  {
   "cell_type": "markdown",
   "metadata": {},
   "source": [
    "4\\. Which configuration returns the best accuracy? What is this accuracy? (Note, if you don't see much variation in the test set accuracy across values of min_samples_split or min_samples_leaf, try redoing the above steps with a different range of values), and reassess your answer in Q3.2."
   ]
  },
  {
   "cell_type": "code",
   "execution_count": 53,
   "metadata": {},
   "outputs": [
    {
     "name": "stdout",
     "output_type": "stream",
     "text": [
      "The accuracy on train_df data sets = 0.5918213748118415\n"
     ]
    }
   ],
   "source": [
    "dtc = DecisionTreeClassifier(criterion='entropy', min_samples_leaf = 160, min_samples_split = 1000)\n",
    "model = dtc.fit(train_X, train_y)\n",
    "test_y_pred=model.predict(test_X)\n",
    "print('The accuracy on train_df data sets = {}'.format(accuracy_score(test_y,test_y_pred)))"
   ]
  },
  {
   "cell_type": "markdown",
   "metadata": {},
   "source": [
    "When min_samples_leaf = 160 and min_samples_split = 1000, the accuracy reaches the best and it is 0.5918213748118415."
   ]
  },
  {
   "cell_type": "markdown",
   "metadata": {},
   "source": [
    "5\\. If you were working for a marketing department, how would you use your churn production model in a real business environment? Explain why churn prediction might be good for the business and how one might improve churn by using this model."
   ]
  },
  {
   "cell_type": "markdown",
   "metadata": {},
   "source": [
    "With the churn prediction model, we can predict the customer churn better, so that we can take actions to maintain current customers and improve the company's revenue. With a more concrete prediction, we can run campaign and develop different kinds of service for different potential churn customers. Through the analysis of the importance of the features, we can find out what features play a significant role in customer churn. We have already known that customers with lower monthly income are more likely to churn. With such informaiton, marketing department can do a survey on this group of customers and work out what they need, so that the company could find ways to better maintain these customers. Different features needs different strategies to the customers. With the prediction model, we can develop more efficient and concrete strategies, know better about how we could advance our service in order to improve churn. Consequently we could have more customers and have more profits. That's why churn prediction would be good for the business."
   ]
  }
 ],
 "metadata": {
  "kernelspec": {
   "display_name": "Python 3",
   "language": "python",
   "name": "python3"
  },
  "language_info": {
   "codemirror_mode": {
    "name": "ipython",
    "version": 3
   },
   "file_extension": ".py",
   "mimetype": "text/x-python",
   "name": "python",
   "nbconvert_exporter": "python",
   "pygments_lexer": "ipython3",
   "version": "3.7.4"
  }
 },
 "nbformat": 4,
 "nbformat_minor": 1
}
